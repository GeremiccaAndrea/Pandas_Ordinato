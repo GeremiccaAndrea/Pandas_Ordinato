{
  "nbformat": 4,
  "nbformat_minor": 0,
  "metadata": {
    "colab": {
      "provenance": [],
      "authorship_tag": "ABX9TyMQeUUNfJyIDxYce8v74a1G",
      "include_colab_link": true
    },
    "kernelspec": {
      "name": "python3",
      "display_name": "Python 3"
    },
    "language_info": {
      "name": "python"
    }
  },
  "cells": [
    {
      "cell_type": "markdown",
      "metadata": {
        "id": "view-in-github",
        "colab_type": "text"
      },
      "source": [
        "<a href=\"https://colab.research.google.com/github/GeremiccaAndrea/Pandas_Ordinato/blob/main/Pandas.ipynb\" target=\"_parent\"><img src=\"https://colab.research.google.com/assets/colab-badge.svg\" alt=\"Open In Colab\"/></a>"
      ]
    },
    {
      "cell_type": "code",
      "execution_count": null,
      "metadata": {
        "id": "8CDTwXC09XRq"
      },
      "outputs": [],
      "source": [
        "import pandas as pd\n",
        "movies = pd.read_csv('https://gist.githubusercontent.com/tiangechen/b68782efa49a16edaf07dc2cdaa855ea/raw/0c794a9717f18b094eabab2cd6a6b9a226903577/movies.csv')\n",
        "movies"
      ]
    },
    {
      "cell_type": "markdown",
      "source": [
        "Prime 10 righe del dataframe"
      ],
      "metadata": {
        "id": "2o6Wd3tS_U5S"
      }
    },
    {
      "cell_type": "code",
      "source": [
        "movies.head(10)"
      ],
      "metadata": {
        "id": "CPWdz2If99Wk"
      },
      "execution_count": null,
      "outputs": []
    },
    {
      "cell_type": "markdown",
      "source": [
        "Ultime 10 righe del dataframe"
      ],
      "metadata": {
        "id": "BiQ6zx0G_Yhz"
      }
    },
    {
      "cell_type": "code",
      "source": [
        "movies.tail(10)"
      ],
      "metadata": {
        "id": "0IfVhjrV-EjH"
      },
      "execution_count": null,
      "outputs": []
    },
    {
      "cell_type": "markdown",
      "source": [
        " Visualizza la colonna film e genre del dataframe"
      ],
      "metadata": {
        "id": "s5DyQgsS_d1J"
      }
    },
    {
      "cell_type": "code",
      "source": [
        "movies[[\"Film\", \"Genre\"]]"
      ],
      "metadata": {
        "id": "nnY1X-BM-RfQ"
      },
      "execution_count": null,
      "outputs": []
    },
    {
      "cell_type": "markdown",
      "source": [
        "Dalla riga 20 alla 30"
      ],
      "metadata": {
        "id": "8sFuZWXi_gMg"
      }
    },
    {
      "cell_type": "code",
      "source": [
        "movies.iloc[20:31]\n",
        "#oppure\n",
        "movies[20:31]"
      ],
      "metadata": {
        "id": "LK1e1oKR-inL"
      },
      "execution_count": null,
      "outputs": []
    },
    {
      "cell_type": "markdown",
      "source": [
        "Visualizzare i titolo e l’anno dei film che si trovano nelle posizioni 23, 29 e 45"
      ],
      "metadata": {
        "id": "pKy41p2o_kNz"
      }
    },
    {
      "cell_type": "code",
      "source": [
        "movies[(movies.index == 23) | (movies.index == 29) | (movies.index == 45)][[\"Film\", \"Year\"]]\n",
        "#oppure\n",
        "movies.iloc[[23, 29, 45]][[\"Film\", \"Year\"]]"
      ],
      "metadata": {
        "id": "WYPvZF4--wzf"
      },
      "execution_count": null,
      "outputs": []
    },
    {
      "cell_type": "markdown",
      "source": [
        "Visualizzare i titoli dei film del genere “Animation”"
      ],
      "metadata": {
        "id": "T39O8N3y_oWT"
      }
    },
    {
      "cell_type": "code",
      "source": [
        "movies[movies[\"Genre\"] == \"Animation\"][[\"Film\"]]"
      ],
      "metadata": {
        "id": "FilNsnSt-5CY"
      },
      "execution_count": null,
      "outputs": []
    },
    {
      "cell_type": "markdown",
      "source": [
        "Visualizzare i titoli dei film prodotti dalla “Disney” e dalla “20th Century Fox”"
      ],
      "metadata": {
        "id": "NLqtF61U_rSc"
      }
    },
    {
      "cell_type": "code",
      "source": [
        "movies[movies[\"Lead Studio\"].isin([\"Disney\", \"20th Century Fox\"])][[\"Film\"]]"
      ],
      "metadata": {
        "id": "ml3TutWB_Kd_"
      },
      "execution_count": null,
      "outputs": []
    },
    {
      "cell_type": "markdown",
      "source": [
        "Visualizzare i titoli dei film usciti dal 2005 al 2010"
      ],
      "metadata": {
        "id": "kZKeq01FAiKf"
      }
    },
    {
      "cell_type": "code",
      "source": [
        "movies[(movies[\"Year\"] >= 2005) & (movies[\"Year\"] <= 2010)][[\"Film\"]]"
      ],
      "metadata": {
        "id": "LwSWyUWDAipz"
      },
      "execution_count": null,
      "outputs": []
    },
    {
      "cell_type": "markdown",
      "source": [
        "Visualizzare l’ “Audience score %” medio dei film del genere “Drama”"
      ],
      "metadata": {
        "id": "H9yau-VUAoVr"
      }
    },
    {
      "cell_type": "code",
      "source": [
        "movies[movies[\"Genre\"] == \"Drama\"][\"Audience score %\"].mean()"
      ],
      "metadata": {
        "id": "HmFdAn2oAo4T"
      },
      "execution_count": null,
      "outputs": []
    },
    {
      "cell_type": "markdown",
      "source": [],
      "metadata": {
        "id": "TN0x7iyRAzA_"
      }
    },
    {
      "cell_type": "code",
      "source": [],
      "metadata": {
        "id": "O3B3n3qAAzR-"
      },
      "execution_count": null,
      "outputs": []
    }
  ]
}