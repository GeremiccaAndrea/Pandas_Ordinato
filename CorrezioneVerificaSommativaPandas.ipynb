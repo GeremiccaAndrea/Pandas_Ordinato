{
  "nbformat": 4,
  "nbformat_minor": 0,
  "metadata": {
    "colab": {
      "provenance": [],
      "mount_file_id": "18Gl78WNOm877Oyxvi0aOiHCxMo0R7z9m",
      "authorship_tag": "ABX9TyMepolL1cTUhETI2f0BpVo/",
      "include_colab_link": true
    },
    "kernelspec": {
      "name": "python3",
      "display_name": "Python 3"
    },
    "language_info": {
      "name": "python"
    }
  },
  "cells": [
    {
      "cell_type": "markdown",
      "metadata": {
        "id": "view-in-github",
        "colab_type": "text"
      },
      "source": [
        "<a href=\"https://colab.research.google.com/github/GeremiccaAndrea/Pandas_Ordinato/blob/main/CorrezioneVerificaSommativaPandas.ipynb\" target=\"_parent\"><img src=\"https://colab.research.google.com/assets/colab-badge.svg\" alt=\"Open In Colab\"/></a>"
      ]
    },
    {
      "cell_type": "code",
      "execution_count": null,
      "metadata": {
        "id": "Z-mLrTdwuw9S"
      },
      "outputs": [],
      "source": [
        "!pip install pandas"
      ]
    },
    {
      "cell_type": "code",
      "source": [
        "import pandas as pd"
      ],
      "metadata": {
        "id": "eHfnMgr7u4X2"
      },
      "execution_count": null,
      "outputs": []
    },
    {
      "cell_type": "code",
      "source": [
        "colonnine = pd.read_csv('/content/drive/MyDrive/Colab Notebooks/ricarica_colonnine.csv', sep = \";\")\n",
        "colonnine"
      ],
      "metadata": {
        "id": "PszdmJHXvMxO"
      },
      "execution_count": null,
      "outputs": []
    },
    {
      "cell_type": "code",
      "source": [
        "quartieri = pd.read_csv('/content/drive/MyDrive/Colab Notebooks/quartieriMilano.csv', sep = \";\")\n",
        "quartieri"
      ],
      "metadata": {
        "id": "ppFtrJGvvMuF"
      },
      "execution_count": null,
      "outputs": []
    },
    {
      "cell_type": "markdown",
      "source": [
        "2. salvare in una lista la colonna del dataframe contenente i nomi del quartiere (nome_nil)"
      ],
      "metadata": {
        "id": "fT1E9qCyv7fc"
      }
    },
    {
      "cell_type": "code",
      "source": [
        "lista = list(colonnine['nome_nil'])"
      ],
      "metadata": {
        "id": "aAwL992vv9Y4"
      },
      "execution_count": null,
      "outputs": []
    },
    {
      "cell_type": "markdown",
      "source": [
        "Oppure"
      ],
      "metadata": {
        "id": "RrysUqKC8Cz5"
      }
    },
    {
      "cell_type": "code",
      "source": [
        "lista = colonnine['nome_nil'].to_list()"
      ],
      "metadata": {
        "id": "sFhnjB9U73CV"
      },
      "execution_count": null,
      "outputs": []
    },
    {
      "cell_type": "markdown",
      "source": [
        "3. creare una nuova lista contenente i nomi dei quartieri senza duplicati"
      ],
      "metadata": {
        "id": "sgK0HxozwR65"
      }
    },
    {
      "cell_type": "code",
      "source": [
        "senza_duplicati = list(set(colonnine['nome_nil']))\n",
        "senza_duplicati"
      ],
      "metadata": {
        "id": "99SflMMlwU8C"
      },
      "execution_count": null,
      "outputs": []
    },
    {
      "cell_type": "markdown",
      "source": [
        "4. contare il numero di duplicati che erano presenti nella prima lista"
      ],
      "metadata": {
        "id": "w7_8IpqGwsbZ"
      }
    },
    {
      "cell_type": "code",
      "source": [
        "len(lista) - len(senza_duplicati)"
      ],
      "metadata": {
        "id": "fgmL-gLlwu0m"
      },
      "execution_count": null,
      "outputs": []
    },
    {
      "cell_type": "markdown",
      "source": [
        "5. salvare in una terza lista tutti i quartieri il cui nome comincia con la lettera B"
      ],
      "metadata": {
        "id": "LWxCDxhjxPKr"
      }
    },
    {
      "cell_type": "code",
      "source": [
        "B = colonnine[colonnine['nome_nil'].str.startswith(\"B\")]['nome_nil'].to_list()\n",
        "B"
      ],
      "metadata": {
        "id": "4okXHUbSxRUd"
      },
      "execution_count": null,
      "outputs": []
    },
    {
      "cell_type": "markdown",
      "source": [
        "6. salvare in una quarta lista i primi due elementi della lista precedente e gli ultimi due"
      ],
      "metadata": {
        "id": "2u4hcezwx4n3"
      }
    },
    {
      "cell_type": "code",
      "source": [
        "lista_elementi = B[0:2]\n",
        "lista_elementi.extend(B[-2:])\n",
        "lista_elementi"
      ],
      "metadata": {
        "id": "izU38kUDz2ZF"
      },
      "execution_count": null,
      "outputs": []
    },
    {
      "cell_type": "markdown",
      "source": [
        "7. salvare in un'altra lista la precedente ordinata in ordine alfabetico al contrario dalla Z alla A"
      ],
      "metadata": {
        "id": "QMIBjQn6z2yL"
      }
    },
    {
      "cell_type": "code",
      "source": [
        "ordineDecrescente = (sorted(lista_elementi, reverse = True))\n",
        "ordineDecrescente"
      ],
      "metadata": {
        "id": "a9suWH5Mz6QE"
      },
      "execution_count": null,
      "outputs": []
    },
    {
      "cell_type": "markdown",
      "source": [
        "8. salvare in un nuovo dataframe il numero di colonnine di ricarica presenti in ogni quartiere"
      ],
      "metadata": {
        "id": "zdIdEJq71uh5"
      }
    },
    {
      "cell_type": "code",
      "source": [
        "colonnineXquartiere = colonnine.groupby('nome_nil')[['numero_col']].count().reset_index()\n",
        "colonnineXquartiere"
      ],
      "metadata": {
        "id": "P0k0Un9V1zXt"
      },
      "execution_count": null,
      "outputs": []
    },
    {
      "cell_type": "markdown",
      "source": [
        "9. utilizzare i dati appena estratti per creare un dizionario che abbia il numero di colonnine come valore e il nome del quartiere come chiave"
      ],
      "metadata": {
        "id": "L1z7LZPN17nC"
      }
    },
    {
      "cell_type": "code",
      "source": [
        "dizionario = dict(zip(colonnineXquartiere['nome_nil'], colonnineXquartiere['numero_col']))\n",
        "dizionario"
      ],
      "metadata": {
        "id": "Xt4rSL1c1-Nm"
      },
      "execution_count": null,
      "outputs": []
    },
    {
      "cell_type": "markdown",
      "source": [
        "10. usando il dizionario appena creato far inserire all'utente il nome di un quartiere e visualizzare il numero di colonnine di ricarica"
      ],
      "metadata": {
        "id": "bxlFQ8aZ2A6Z"
      }
    },
    {
      "cell_type": "code",
      "source": [
        "utente = input('Inserire un quartiere: ')\n",
        "colonnineUtente = colonnineXquartiere[colonnineXquartiere['nome_nil'] == utente][['numero_col']]\n",
        "colonnineUtente"
      ],
      "metadata": {
        "id": "Jw5IeOkN2Fvq"
      },
      "execution_count": null,
      "outputs": []
    },
    {
      "cell_type": "markdown",
      "source": [
        "11. fare la stessa cosa dell'esercizio precedente ma controllando che il quartiere sia effettivamente presente nell'elenco. se presente visualizzare il numero di colonnine altrimenti messaggio errore"
      ],
      "metadata": {
        "id": "PDgUBGEf2Kll"
      }
    },
    {
      "cell_type": "code",
      "source": [
        "input1 = input('Inserire un quartiere: ')\n",
        "if input1 in dizionario:\n",
        "   print(dizionario[utente])\n",
        "else:\n",
        "    print('x')\n",
        "#DA SISTEMARE "
      ],
      "metadata": {
        "id": "xIS17iFr2JHu"
      },
      "execution_count": null,
      "outputs": []
    },
    {
      "cell_type": "markdown",
      "source": [
        "12. usando il diziponario appena creato calcolare il numero totale di colonnine che ci sono a milano"
      ],
      "metadata": {
        "id": "qxO-VC-h2Pc9"
      }
    },
    {
      "cell_type": "code",
      "source": [
        "total = sum(dizionario.values())\n",
        "total"
      ],
      "metadata": {
        "id": "bOs-h29B2QY1"
      },
      "execution_count": null,
      "outputs": []
    },
    {
      "cell_type": "markdown",
      "source": [
        "13. calcolare il numero di colonnine per ogni quartiere. chiamare il nuovo dataframe colonninePerQuartiere"
      ],
      "metadata": {
        "id": "YKebzqHV2Q4v"
      }
    },
    {
      "cell_type": "code",
      "source": [
        "colonninePerQuartiere = colonnine.groupby('nome_nil')[['numero_col']].count().reset_index()\n",
        "colonninePerQuartiere"
      ],
      "metadata": {
        "id": "Le2c7R222TU-"
      },
      "execution_count": null,
      "outputs": []
    },
    {
      "cell_type": "markdown",
      "source": [
        "14. eliminare dal dataframe iniziale tutte le colonnine di cui non si conosce il nome della via"
      ],
      "metadata": {
        "id": "xjINowfb2ZLl"
      }
    },
    {
      "cell_type": "code",
      "source": [
        "quartieri1 = colonnine[~colonnine['nome_via'].isna()]\n",
        "quartieri1"
      ],
      "metadata": {
        "id": "qmUXEL8N2coq"
      },
      "execution_count": null,
      "outputs": []
    },
    {
      "cell_type": "markdown",
      "source": [
        "15. trovare i quartieri che hanno più di 10 colonnine"
      ],
      "metadata": {
        "id": "vN_TILlU2dLH"
      }
    },
    {
      "cell_type": "code",
      "source": [
        "colonninePerQuartiere[colonninePerQuartiere['numero_col'] >= 10]"
      ],
      "metadata": {
        "id": "MiAraAhm2fXq"
      },
      "execution_count": null,
      "outputs": []
    },
    {
      "cell_type": "markdown",
      "source": [
        "16. visualizzare la somma delle colonnine dei quartieri bicocca, brera e affori"
      ],
      "metadata": {
        "id": "sCV10hsI2flK"
      }
    },
    {
      "cell_type": "code",
      "source": [
        "colonninePerQuartiere[(colonninePerQuartiere['nome_nil'] == 'AFFORI') | (colonninePerQuartiere['nome_nil'] == 'BICOCCA') | (colonninePerQuartiere['nome_nil'] == 'BRERA')] ['numero_col'].sum()"
      ],
      "metadata": {
        "id": "Q5mti7tD2iDk"
      },
      "execution_count": null,
      "outputs": []
    },
    {
      "cell_type": "markdown",
      "source": [
        "17. trovare i quartieri che hanno un numero di colonnine comprese fra 8 e 12 estremi inclusi, ordinare il risultato in ordine decrescente sul num colonnine"
      ],
      "metadata": {
        "id": "HPfMD1TG2kua"
      }
    },
    {
      "cell_type": "code",
      "source": [
        "colonninePerQuartiere[(colonninePerQuartiere['numero_col'] >=8) & (colonninePerQuartiere['numero_col'] <=12 )].sort_values(by = 'numero_col', ascending = False)"
      ],
      "metadata": {
        "id": "ljTvCdVE2m6C"
      },
      "execution_count": null,
      "outputs": []
    },
    {
      "cell_type": "markdown",
      "source": [
        "18. utilizzando il dataset dei quartieri salvare in un nuovo dataframe i quartieri che non hanno colonnine di ricarica"
      ],
      "metadata": {
        "id": "CqW_Pi_D2ndH"
      }
    },
    {
      "cell_type": "code",
      "source": [
        "colonnine[colonnine.numero_col.isnull()]\n",
        "#DA SISTEMARE"
      ],
      "metadata": {
        "id": "b-kcO-hh2qWG"
      },
      "execution_count": null,
      "outputs": []
    },
    {
      "cell_type": "markdown",
      "source": [
        "19. eliminare la colonna 'Area HA'"
      ],
      "metadata": {
        "id": "SdaEakQJ2qqG"
      }
    },
    {
      "cell_type": "code",
      "source": [
        "quartieri.drop(['Area HA'], axis = 1)"
      ],
      "metadata": {
        "id": "FIDdaMcc2tSB"
      },
      "execution_count": null,
      "outputs": []
    },
    {
      "cell_type": "markdown",
      "source": [
        "20. calcolare l'are complessiva di milano in metri quadrati"
      ],
      "metadata": {
        "id": "xK8jsk1H2x8N"
      }
    },
    {
      "cell_type": "code",
      "source": [
        "area =quartieri['Area MQ'].sum()\n",
        "area"
      ],
      "metadata": {
        "id": "8yc2r03822zq"
      },
      "execution_count": null,
      "outputs": []
    },
    {
      "cell_type": "markdown",
      "source": [
        "21. aggiungere al dataframe una colonna che contenga la percentuale di area che ogni quartiere copre rispetto al totale dell'area di milano"
      ],
      "metadata": {
        "id": "QtwJbKoM26tF"
      }
    },
    {
      "cell_type": "code",
      "source": [
        "#NON PENSO SIA GIUSTO "
      ],
      "metadata": {
        "id": "asmV--pukB50"
      },
      "execution_count": null,
      "outputs": []
    },
    {
      "cell_type": "code",
      "source": [
        "numeroquartieri = quartieri[\"Nome\"].count()\n",
        "quartieri[\"percentuale\"] = area\n",
        "quartieri"
      ],
      "metadata": {
        "id": "4MIkpifl278S"
      },
      "execution_count": null,
      "outputs": []
    },
    {
      "cell_type": "code",
      "source": [
        "percperogniquartier = quartieri.groupby(\"Nome\")[[\"Area MQ\"]].mean()\n",
        "percperogniquartier"
      ],
      "metadata": {
        "id": "wE00Hi5qjXO1"
      },
      "execution_count": null,
      "outputs": []
    },
    {
      "cell_type": "markdown",
      "source": [
        "22. visualizzare i primi 5 quartieri in percentuale più grandi"
      ],
      "metadata": {
        "id": "pIwD1wHp2-Qa"
      }
    },
    {
      "cell_type": "code",
      "source": [],
      "metadata": {
        "id": "G-ITnrvTkPWI"
      },
      "execution_count": null,
      "outputs": []
    },
    {
      "cell_type": "markdown",
      "source": [
        "23. visualizzare il quartiere più grande (fare in modo che se ci sono più quartieri "
      ],
      "metadata": {
        "id": "8fXya_yD2_TY"
      }
    },
    {
      "cell_type": "code",
      "source": [
        "quartieri[quartieri['Area MQ'] == quartieri['Area MQ'].max()]['Nome']"
      ],
      "metadata": {
        "id": "sfOMiLA53ADh"
      },
      "execution_count": null,
      "outputs": []
    },
    {
      "cell_type": "markdown",
      "source": [
        "24. scrivere una funzione che converta un valore da metri quadrati in km quadrati"
      ],
      "metadata": {
        "id": "TzP8QaOWkVnQ"
      }
    },
    {
      "cell_type": "code",
      "source": [
        "def conversione(mq):\n",
        "  return mq * 1000000"
      ],
      "metadata": {
        "id": "8a5wT7DckigU"
      },
      "execution_count": null,
      "outputs": []
    }
  ]
}